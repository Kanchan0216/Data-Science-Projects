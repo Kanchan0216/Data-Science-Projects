{
 "cells": [
  {
   "cell_type": "markdown",
   "id": "bab3b147",
   "metadata": {},
   "source": [
    "\n",
    "# Post - Surgical Complication Prediction\n"
   ]
  },
  {
   "cell_type": "markdown",
   "id": "e42ab634",
   "metadata": {},
   "source": [
    "### Problem Statement \n",
    "**Develop a machine learning model that utilizes patient demographic data and medical history to accurately predict the risk of postoperative complications.**\n",
    "\n",
    "### Motivation \n",
    "*  Surgical patients are automatically at risk of suffering postoperative complications, despite decades of scientific and technological advancement. \n",
    "* The accurate prediction of individual outcomes has the potential to completely reshape the future of postoperative management.\n",
    "\n",
    "* Through such prediction, individual prioperative treatment, postoperative management, and this would allow for clinical decision-making.\n",
    "\n",
    "\n",
    "\n",
    "### Objective\n",
    "* To build machine learning model for predicting postsurgical complication\n",
    "* To determine which factors have the greatest impact on postsurgical complications\n",
    "\n",
    "### Data understanding\n",
    "* Data Source : https://www.kaggle.com\n",
    "* There are 25 variables and 14635 total datapoints.\n",
    "* Target variable is complication \n",
    "     * Yes : Patient has postsurgical complication\n",
    "     * No  : Patient does not have postsurgical complication\n",
    "* The patient's demographic and medical historical data are independent variables.\n",
    "     * BMI             : Body mass index of patient\n",
    "     * Age \n",
    "     * mortality_rsi   : Mortality Risk Stratification Index used to predict risk of mortality\n",
    "     * mort30          : Mortality within 30 days of surgery \n",
    "     * moonphase       : Phases of moon viz.New moon , First Quater , Full Moon , Third Quater\n",
    "     * Month           : Month of the year in which surgery is performed.\n",
    "     * hour            : The time of day at which surgery is performed.\n",
    "     * Gender          : Whther patient is male or female.\n",
    "     * dow             : The day of the week on which surgery is performed.\n",
    "     * complication_rsi: The Complication Risk Stratification Index (RSI) \n",
    "     * ccsMort30Rate   : The 30-day mortality rate \n",
    "     * ahrq_ccs        : The Agency for Healthcare Research and Quality (AHRQ) is a tool used to group diagnoses and procedures                          into clinically meaningful categories for research and analysis.\n",
    "     * baseline_pulmonary: Baseline pulmonary disease.\n",
    "     * baseline_psych    : psychological conditions, such as depression and anxiety.\n",
    "     * baseline_osteoart : Baseline osteoarthritis.\n",
    "     * baseline_digestive: Baseline digestive disease \n",
    "     * baseline_diabetes : Baseline diabetes. \n",
    "     * baseline_dementia : whether a patient has a diagnosis of dementia prior to surgery\n",
    "     * baseline_cvd      :whether a patient has a cardiovascular disease prior to surgery\n",
    "     * baseline_charlson : The Charlson Comorbidity Index (CCI)\n",
    "     * baseline_cancer   : This feature indicates whether a patient has a diagnosis of cancer prior to surgery.\n",
    "     * asa_status        : The American Society of Anesthesiologists used to access patients health status prior to the surgery.\n",
    "     * race              : Whether patient is Caucasoid, Negroid, and Mongoloid.\n",
    "\n",
    "\n"
   ]
  },
  {
   "cell_type": "code",
   "execution_count": 1,
   "id": "b5c4f525",
   "metadata": {},
   "outputs": [],
   "source": [
    "# Data preprocessing and manipulation\n",
    "import pandas                as pd\n",
    "import numpy                 as np\n",
    "\n",
    "# Exploratory Data Analysis\n",
    "import matplotlib.pyplot as plt\n",
    "import seaborn as sns\n",
    "sns.set_style('darkgrid')\n",
    "import matplotlib.gridspec as gridspec\n",
    "%matplotlib inline\n",
    "\n",
    "# Converting non numeric value to numeric\n",
    "from sklearn.preprocessing  import LabelEncoder\n",
    "\n",
    "# Train test split\n",
    "from sklearn.model_selection import train_test_split\n",
    "\n",
    "# Model Building and evaluation\n",
    "from sklearn.linear_model        import LogisticRegression\n",
    "from sklearn.tree                import DecisionTreeClassifier\n",
    "from sklearn.ensemble            import RandomForestClassifier\n",
    "from sklearn.metrics             import confusion_matrix , recall_score , accuracy_score , precision_score , f1_score , classification_report\n",
    "\n",
    "# Hyperparamer Tunning\n",
    "from sklearn.model_selection import GridSearchCV\n",
    "\n",
    "# Ignore Warnings\n",
    "import warnings\n",
    "warnings.filterwarnings(\"ignore\")"
   ]
  },
  {
   "cell_type": "code",
   "execution_count": 2,
   "id": "3cb81336",
   "metadata": {},
   "outputs": [],
   "source": [
    "# Import Data\n",
    "\n",
    "df = pd.read_csv(r\"D:\\Data Science\\Imarticus Learning\\Capstone Project 1\\Postoperative_complication.csv\")"
   ]
  },
  {
   "cell_type": "code",
   "execution_count": 3,
   "id": "a2387d96",
   "metadata": {},
   "outputs": [],
   "source": [
    "# Making copy of the data\n",
    "\n",
    "df_copy = df.copy(deep=True)"
   ]
  },
  {
   "cell_type": "code",
   "execution_count": 4,
   "id": "e73ffc5c",
   "metadata": {},
   "outputs": [
    {
     "data": {
      "text/html": [
       "<div>\n",
       "<style scoped>\n",
       "    .dataframe tbody tr th:only-of-type {\n",
       "        vertical-align: middle;\n",
       "    }\n",
       "\n",
       "    .dataframe tbody tr th {\n",
       "        vertical-align: top;\n",
       "    }\n",
       "\n",
       "    .dataframe thead th {\n",
       "        text-align: right;\n",
       "    }\n",
       "</style>\n",
       "<table border=\"1\" class=\"dataframe\">\n",
       "  <thead>\n",
       "    <tr style=\"text-align: right;\">\n",
       "      <th></th>\n",
       "      <th>bmi</th>\n",
       "      <th>Age</th>\n",
       "      <th>asa_status</th>\n",
       "      <th>baseline_cancer</th>\n",
       "      <th>baseline_charlson</th>\n",
       "      <th>baseline_cvd</th>\n",
       "      <th>baseline_dementia</th>\n",
       "      <th>baseline_diabetes</th>\n",
       "      <th>baseline_digestive</th>\n",
       "      <th>baseline_osteoart</th>\n",
       "      <th>...</th>\n",
       "      <th>complication_rsi</th>\n",
       "      <th>dow</th>\n",
       "      <th>gender</th>\n",
       "      <th>hour</th>\n",
       "      <th>month</th>\n",
       "      <th>moonphase</th>\n",
       "      <th>mort30</th>\n",
       "      <th>mortality_rsi</th>\n",
       "      <th>race</th>\n",
       "      <th>complication</th>\n",
       "    </tr>\n",
       "  </thead>\n",
       "  <tbody>\n",
       "    <tr>\n",
       "      <th>0</th>\n",
       "      <td>19.31</td>\n",
       "      <td>59.2</td>\n",
       "      <td>1</td>\n",
       "      <td>Yes</td>\n",
       "      <td>0</td>\n",
       "      <td>No</td>\n",
       "      <td>No</td>\n",
       "      <td>No</td>\n",
       "      <td>No</td>\n",
       "      <td>No</td>\n",
       "      <td>...</td>\n",
       "      <td>-0.57</td>\n",
       "      <td>Thursday</td>\n",
       "      <td>Female</td>\n",
       "      <td>7.63</td>\n",
       "      <td>July</td>\n",
       "      <td>First Quarter</td>\n",
       "      <td>No</td>\n",
       "      <td>-0.43</td>\n",
       "      <td>1</td>\n",
       "      <td>No</td>\n",
       "    </tr>\n",
       "    <tr>\n",
       "      <th>1</th>\n",
       "      <td>18.73</td>\n",
       "      <td>59.1</td>\n",
       "      <td>0</td>\n",
       "      <td>No</td>\n",
       "      <td>0</td>\n",
       "      <td>No</td>\n",
       "      <td>No</td>\n",
       "      <td>No</td>\n",
       "      <td>No</td>\n",
       "      <td>No</td>\n",
       "      <td>...</td>\n",
       "      <td>0.21</td>\n",
       "      <td>Monday</td>\n",
       "      <td>Female</td>\n",
       "      <td>12.93</td>\n",
       "      <td>January</td>\n",
       "      <td>First Quarter</td>\n",
       "      <td>No</td>\n",
       "      <td>-0.41</td>\n",
       "      <td>1</td>\n",
       "      <td>No</td>\n",
       "    </tr>\n",
       "    <tr>\n",
       "      <th>2</th>\n",
       "      <td>21.85</td>\n",
       "      <td>59.0</td>\n",
       "      <td>0</td>\n",
       "      <td>No</td>\n",
       "      <td>0</td>\n",
       "      <td>No</td>\n",
       "      <td>No</td>\n",
       "      <td>No</td>\n",
       "      <td>No</td>\n",
       "      <td>No</td>\n",
       "      <td>...</td>\n",
       "      <td>0.00</td>\n",
       "      <td>Wednesday</td>\n",
       "      <td>Female</td>\n",
       "      <td>7.68</td>\n",
       "      <td>June</td>\n",
       "      <td>Third Quarter</td>\n",
       "      <td>No</td>\n",
       "      <td>0.08</td>\n",
       "      <td>1</td>\n",
       "      <td>No</td>\n",
       "    </tr>\n",
       "    <tr>\n",
       "      <th>3</th>\n",
       "      <td>18.49</td>\n",
       "      <td>59.0</td>\n",
       "      <td>1</td>\n",
       "      <td>No</td>\n",
       "      <td>1</td>\n",
       "      <td>No</td>\n",
       "      <td>No</td>\n",
       "      <td>Yes</td>\n",
       "      <td>Yes</td>\n",
       "      <td>No</td>\n",
       "      <td>...</td>\n",
       "      <td>-0.65</td>\n",
       "      <td>Wednesday</td>\n",
       "      <td>Male</td>\n",
       "      <td>7.58</td>\n",
       "      <td>May</td>\n",
       "      <td>Third Quarter</td>\n",
       "      <td>No</td>\n",
       "      <td>-0.32</td>\n",
       "      <td>1</td>\n",
       "      <td>No</td>\n",
       "    </tr>\n",
       "    <tr>\n",
       "      <th>4</th>\n",
       "      <td>19.70</td>\n",
       "      <td>59.0</td>\n",
       "      <td>1</td>\n",
       "      <td>No</td>\n",
       "      <td>0</td>\n",
       "      <td>No</td>\n",
       "      <td>No</td>\n",
       "      <td>No</td>\n",
       "      <td>No</td>\n",
       "      <td>No</td>\n",
       "      <td>...</td>\n",
       "      <td>0.00</td>\n",
       "      <td>Monday</td>\n",
       "      <td>Female</td>\n",
       "      <td>7.88</td>\n",
       "      <td>December</td>\n",
       "      <td>New Moon</td>\n",
       "      <td>No</td>\n",
       "      <td>0.00</td>\n",
       "      <td>1</td>\n",
       "      <td>No</td>\n",
       "    </tr>\n",
       "    <tr>\n",
       "      <th>5</th>\n",
       "      <td>20.24</td>\n",
       "      <td>59.0</td>\n",
       "      <td>0</td>\n",
       "      <td>Yes</td>\n",
       "      <td>0</td>\n",
       "      <td>No</td>\n",
       "      <td>No</td>\n",
       "      <td>No</td>\n",
       "      <td>No</td>\n",
       "      <td>No</td>\n",
       "      <td>...</td>\n",
       "      <td>0.00</td>\n",
       "      <td>Tuesday</td>\n",
       "      <td>Female</td>\n",
       "      <td>7.63</td>\n",
       "      <td>January</td>\n",
       "      <td>Third Quarter</td>\n",
       "      <td>No</td>\n",
       "      <td>0.15</td>\n",
       "      <td>1</td>\n",
       "      <td>No</td>\n",
       "    </tr>\n",
       "  </tbody>\n",
       "</table>\n",
       "<p>6 rows × 25 columns</p>\n",
       "</div>"
      ],
      "text/plain": [
       "     bmi   Age  asa_status baseline_cancer  baseline_charlson baseline_cvd  \\\n",
       "0  19.31  59.2           1             Yes                  0           No   \n",
       "1  18.73  59.1           0              No                  0           No   \n",
       "2  21.85  59.0           0              No                  0           No   \n",
       "3  18.49  59.0           1              No                  1           No   \n",
       "4  19.70  59.0           1              No                  0           No   \n",
       "5  20.24  59.0           0             Yes                  0           No   \n",
       "\n",
       "  baseline_dementia baseline_diabetes baseline_digestive baseline_osteoart  \\\n",
       "0                No                No                 No                No   \n",
       "1                No                No                 No                No   \n",
       "2                No                No                 No                No   \n",
       "3                No               Yes                Yes                No   \n",
       "4                No                No                 No                No   \n",
       "5                No                No                 No                No   \n",
       "\n",
       "   ... complication_rsi        dow  gender   hour     month      moonphase  \\\n",
       "0  ...            -0.57   Thursday  Female   7.63      July  First Quarter   \n",
       "1  ...             0.21     Monday  Female  12.93   January  First Quarter   \n",
       "2  ...             0.00  Wednesday  Female   7.68      June  Third Quarter   \n",
       "3  ...            -0.65  Wednesday    Male   7.58       May  Third Quarter   \n",
       "4  ...             0.00     Monday  Female   7.88  December       New Moon   \n",
       "5  ...             0.00    Tuesday  Female   7.63   January  Third Quarter   \n",
       "\n",
       "  mort30 mortality_rsi  race complication  \n",
       "0     No         -0.43     1           No  \n",
       "1     No         -0.41     1           No  \n",
       "2     No          0.08     1           No  \n",
       "3     No         -0.32     1           No  \n",
       "4     No          0.00     1           No  \n",
       "5     No          0.15     1           No  \n",
       "\n",
       "[6 rows x 25 columns]"
      ]
     },
     "execution_count": 4,
     "metadata": {},
     "output_type": "execute_result"
    }
   ],
   "source": [
    "df.head(6)"
   ]
  },
  {
   "cell_type": "code",
   "execution_count": 5,
   "id": "3181df81",
   "metadata": {},
   "outputs": [],
   "source": [
    "df.Age = df.Age.round()"
   ]
  },
  {
   "cell_type": "code",
   "execution_count": 6,
   "id": "3df1aff1",
   "metadata": {},
   "outputs": [
    {
     "data": {
      "text/plain": [
       "(14635, 25)"
      ]
     },
     "execution_count": 6,
     "metadata": {},
     "output_type": "execute_result"
    }
   ],
   "source": [
    "df.shape"
   ]
  },
  {
   "cell_type": "markdown",
   "id": "b1182fe8",
   "metadata": {},
   "source": [
    "* There are 14635 rows and 25 columns in the dataset"
   ]
  },
  {
   "cell_type": "markdown",
   "id": "db9f91cd",
   "metadata": {},
   "source": [
    "### Missing Value Analysis"
   ]
  },
  {
   "cell_type": "code",
   "execution_count": 7,
   "id": "3ec8fece",
   "metadata": {},
   "outputs": [
    {
     "data": {
      "text/plain": [
       "Series([], dtype: int64)"
      ]
     },
     "execution_count": 7,
     "metadata": {},
     "output_type": "execute_result"
    }
   ],
   "source": [
    "df.isnull().sum()[df.isnull().sum() > 0]"
   ]
  },
  {
   "cell_type": "markdown",
   "id": "c15d8651",
   "metadata": {},
   "source": [
    "### Duplicate Values"
   ]
  },
  {
   "cell_type": "code",
   "execution_count": 8,
   "id": "6f7b6544",
   "metadata": {},
   "outputs": [
    {
     "data": {
      "text/plain": [
       "False    11733\n",
       "True      2902\n",
       "Name: count, dtype: int64"
      ]
     },
     "execution_count": 8,
     "metadata": {},
     "output_type": "execute_result"
    }
   ],
   "source": [
    "df.duplicated().value_counts()"
   ]
  },
  {
   "cell_type": "code",
   "execution_count": 9,
   "id": "5f78c5af",
   "metadata": {},
   "outputs": [
    {
     "data": {
      "text/plain": [
       "(11733, 25)"
      ]
     },
     "execution_count": 9,
     "metadata": {},
     "output_type": "execute_result"
    }
   ],
   "source": [
    "df = df.drop_duplicates()\n",
    "df.shape"
   ]
  },
  {
   "cell_type": "markdown",
   "id": "8877e337",
   "metadata": {},
   "source": [
    "### Checking Datatype of all variables"
   ]
  },
  {
   "cell_type": "code",
   "execution_count": 10,
   "id": "89fe2689",
   "metadata": {},
   "outputs": [
    {
     "name": "stdout",
     "output_type": "stream",
     "text": [
      "<class 'pandas.core.frame.DataFrame'>\n",
      "Index: 11733 entries, 0 to 14634\n",
      "Data columns (total 25 columns):\n",
      " #   Column               Non-Null Count  Dtype  \n",
      "---  ------               --------------  -----  \n",
      " 0   bmi                  11733 non-null  float64\n",
      " 1   Age                  11733 non-null  float64\n",
      " 2   asa_status           11733 non-null  int64  \n",
      " 3   baseline_cancer      11733 non-null  object \n",
      " 4   baseline_charlson    11733 non-null  int64  \n",
      " 5   baseline_cvd         11733 non-null  object \n",
      " 6   baseline_dementia    11733 non-null  object \n",
      " 7   baseline_diabetes    11733 non-null  object \n",
      " 8   baseline_digestive   11733 non-null  object \n",
      " 9   baseline_osteoart    11733 non-null  object \n",
      " 10  baseline_psych       11733 non-null  object \n",
      " 11  baseline_pulmonary   11733 non-null  object \n",
      " 12  ahrq_ccs             11733 non-null  int64  \n",
      " 13  ccsComplicationRate  11733 non-null  float64\n",
      " 14  ccsMort30Rate        11733 non-null  float64\n",
      " 15  complication_rsi     11733 non-null  float64\n",
      " 16  dow                  11733 non-null  object \n",
      " 17  gender               11733 non-null  object \n",
      " 18  hour                 11733 non-null  float64\n",
      " 19  month                11733 non-null  object \n",
      " 20  moonphase            11733 non-null  object \n",
      " 21  mort30               11733 non-null  object \n",
      " 22  mortality_rsi        11733 non-null  float64\n",
      " 23  race                 11733 non-null  int64  \n",
      " 24  complication         11733 non-null  object \n",
      "dtypes: float64(7), int64(4), object(14)\n",
      "memory usage: 2.3+ MB\n"
     ]
    }
   ],
   "source": [
    "df.info()"
   ]
  },
  {
   "cell_type": "markdown",
   "id": "cf5888c3",
   "metadata": {},
   "source": [
    "### Let us see how many Object type features are actually Categorical"
   ]
  },
  {
   "cell_type": "code",
   "execution_count": 11,
   "id": "f6c965af",
   "metadata": {},
   "outputs": [
    {
     "data": {
      "text/plain": [
       "baseline_cancer        2\n",
       "baseline_cvd           2\n",
       "baseline_dementia      2\n",
       "baseline_diabetes      2\n",
       "baseline_digestive     2\n",
       "baseline_osteoart      2\n",
       "baseline_psych         2\n",
       "baseline_pulmonary     2\n",
       "dow                    5\n",
       "gender                 2\n",
       "month                 12\n",
       "moonphase              4\n",
       "mort30                 2\n",
       "complication           2\n",
       "dtype: int64"
      ]
     },
     "execution_count": 11,
     "metadata": {},
     "output_type": "execute_result"
    }
   ],
   "source": [
    "df.select_dtypes('object').apply(pd.Series.nunique , axis = 0)"
   ]
  },
  {
   "cell_type": "markdown",
   "id": "162cf33f",
   "metadata": {},
   "source": [
    "### Variables which are continuous"
   ]
  },
  {
   "cell_type": "code",
   "execution_count": 12,
   "id": "b0ca2e09",
   "metadata": {},
   "outputs": [
    {
     "data": {
      "text/plain": [
       "['bmi',\n",
       " 'Age',\n",
       " 'asa_status',\n",
       " 'baseline_charlson',\n",
       " 'ahrq_ccs',\n",
       " 'ccsComplicationRate',\n",
       " 'ccsMort30Rate',\n",
       " 'complication_rsi',\n",
       " 'hour',\n",
       " 'mortality_rsi',\n",
       " 'race']"
      ]
     },
     "execution_count": 12,
     "metadata": {},
     "output_type": "execute_result"
    }
   ],
   "source": [
    "Continuous_Variables  = []\n",
    "for var in df.columns[:]:\n",
    "    if (df[var].dtypes == 'int64') | (df[var].dtypes == 'float64'):\n",
    "        Continuous_Variables.append(var)\n",
    "Continuous_Variables        "
   ]
  },
  {
   "cell_type": "markdown",
   "id": "709f27fe",
   "metadata": {},
   "source": [
    "### Let's explore the data"
   ]
  },
  {
   "cell_type": "markdown",
   "id": "1c0d7dc9",
   "metadata": {},
   "source": [
    "### Box Plot"
   ]
  },
  {
   "cell_type": "code",
   "execution_count": 13,
   "id": "59f264d3",
   "metadata": {},
   "outputs": [
    {
     "data": {
      "text/plain": [
       "<AxesSubplot:>"
      ]
     },
     "execution_count": 13,
     "metadata": {},
     "output_type": "execute_result"
    },
    {
     "data": {
      "image/png": "[encoded data removed]",
      "text/plain": [
       "<Figure size 1440x720 with 1 Axes>"
      ]
     },
     "metadata": {
      "needs_background": "light"
     },
     "output_type": "display_data"
    }
   ],
   "source": [
    "plt.figure(figsize=(20 , 10))\n",
    "df.boxplot()"
   ]
  },
  {
   "cell_type": "code",
   "execution_count": 14,
   "id": "ac7c5020",
   "metadata": {},
   "outputs": [
    {
     "data": {
      "image/png": "[encoded data removed]",
      "text/plain": [
       "<Figure size 1080x2160 with 10 Axes>"
      ]
     },
     "metadata": {
      "needs_background": "light"
     },
     "output_type": "display_data"
    }
   ],
   "source": [
    "fig , axs = plt.subplots(10 , figsize =(15 , 30))\n",
    "\n",
    "plt1 = sns.boxplot(df.bmi , ax = axs[0])\n",
    "plt2 = sns.boxplot(df.Age , ax = axs[1])\n",
    "plt3 = sns.boxplot(df.baseline_charlson , ax = axs[2])\n",
    "plt4 = sns.boxplot(df.ahrq_ccs , ax = axs[3])\n",
    "plt5 = sns.boxplot(df.ccsComplicationRate , ax = axs[4])\n",
    "plt6 = sns.boxplot(df.ccsMort30Rate , ax = axs[5])\n",
    "plt7 = sns.boxplot(df.complication_rsi , ax = axs[6])\n",
    "plt8 = sns.boxplot(df.hour , ax = axs[7])\n",
    "plt10 = sns.boxplot(df.mortality_rsi , ax = axs[8])\n",
    "plt11 = sns.boxplot(df.asa_status , ax = axs[9])"
   ]
  },
  {
   "cell_type": "code",
   "execution_count": null,
   "id": "15d48531",
   "metadata": {},
   "outputs": [],
   "source": []
  },
  {
   "cell_type": "code",
   "execution_count": null,
   "id": "ec9431ae",
   "metadata": {},
   "outputs": [],
   "source": []
  },
  {
   "cell_type": "markdown",
   "id": "49a201d3",
   "metadata": {},
   "source": [
    "## Exploratory Data Analysis"
   ]
  },
  {
   "cell_type": "markdown",
   "id": "d2c3037e",
   "metadata": {},
   "source": [
    "### Univariate Analysis"
   ]
  },
  {
   "cell_type": "code",
   "execution_count": 15,
   "id": "23849d5f",
   "metadata": {},
   "outputs": [
    {
     "data": {
      "text/html": [
       "<div>\n",
       "<style scoped>\n",
       "    .dataframe tbody tr th:only-of-type {\n",
       "        vertical-align: middle;\n",
       "    }\n",
       "\n",
       "    .dataframe tbody tr th {\n",
       "        vertical-align: top;\n",
       "    }\n",
       "\n",
       "    .dataframe thead th {\n",
       "        text-align: right;\n",
       "    }\n",
       "</style>\n",
       "<table border=\"1\" class=\"dataframe\">\n",
       "  <thead>\n",
       "    <tr style=\"text-align: right;\">\n",
       "      <th></th>\n",
       "      <th>bmi</th>\n",
       "      <th>Age</th>\n",
       "      <th>asa_status</th>\n",
       "      <th>baseline_charlson</th>\n",
       "      <th>ahrq_ccs</th>\n",
       "      <th>ccsComplicationRate</th>\n",
       "      <th>ccsMort30Rate</th>\n",
       "      <th>complication_rsi</th>\n",
       "      <th>hour</th>\n",
       "      <th>mortality_rsi</th>\n",
       "      <th>race</th>\n",
       "    </tr>\n",
       "  </thead>\n",
       "  <tbody>\n",
       "    <tr>\n",
       "      <th>count</th>\n",
       "      <td>11733.000000</td>\n",
       "      <td>11733.000000</td>\n",
       "      <td>11733.000000</td>\n",
       "      <td>11733.000000</td>\n",
       "      <td>11733.000000</td>\n",
       "      <td>11733.000000</td>\n",
       "      <td>11733.000000</td>\n",
       "      <td>11733.000000</td>\n",
       "      <td>11733.000000</td>\n",
       "      <td>11733.000000</td>\n",
       "      <td>11733.000000</td>\n",
       "    </tr>\n",
       "    <tr>\n",
       "      <th>mean</th>\n",
       "      <td>31.868385</td>\n",
       "      <td>56.581437</td>\n",
       "      <td>0.541379</td>\n",
       "      <td>1.219296</td>\n",
       "      <td>9.265831</td>\n",
       "      <td>0.146330</td>\n",
       "      <td>0.004814</td>\n",
       "      <td>-0.384690</td>\n",
       "      <td>10.431716</td>\n",
       "      <td>-0.487154</td>\n",
       "      <td>0.899514</td>\n",
       "    </tr>\n",
       "    <tr>\n",
       "      <th>std</th>\n",
       "      <td>9.014059</td>\n",
       "      <td>13.663206</td>\n",
       "      <td>0.567410</td>\n",
       "      <td>1.887267</td>\n",
       "      <td>6.573821</td>\n",
       "      <td>0.094482</td>\n",
       "      <td>0.005047</td>\n",
       "      <td>1.318841</td>\n",
       "      <td>2.912697</td>\n",
       "      <td>1.078118</td>\n",
       "      <td>0.404809</td>\n",
       "    </tr>\n",
       "    <tr>\n",
       "      <th>min</th>\n",
       "      <td>2.150000</td>\n",
       "      <td>6.000000</td>\n",
       "      <td>0.000000</td>\n",
       "      <td>0.000000</td>\n",
       "      <td>0.000000</td>\n",
       "      <td>0.016118</td>\n",
       "      <td>0.000000</td>\n",
       "      <td>-4.720000</td>\n",
       "      <td>6.070000</td>\n",
       "      <td>-3.820000</td>\n",
       "      <td>0.000000</td>\n",
       "    </tr>\n",
       "    <tr>\n",
       "      <th>25%</th>\n",
       "      <td>25.390000</td>\n",
       "      <td>47.000000</td>\n",
       "      <td>0.000000</td>\n",
       "      <td>0.000000</td>\n",
       "      <td>4.000000</td>\n",
       "      <td>0.081977</td>\n",
       "      <td>0.000789</td>\n",
       "      <td>-0.900000</td>\n",
       "      <td>7.680000</td>\n",
       "      <td>-1.200000</td>\n",
       "      <td>1.000000</td>\n",
       "    </tr>\n",
       "    <tr>\n",
       "      <th>50%</th>\n",
       "      <td>29.860000</td>\n",
       "      <td>57.000000</td>\n",
       "      <td>1.000000</td>\n",
       "      <td>0.000000</td>\n",
       "      <td>8.000000</td>\n",
       "      <td>0.109369</td>\n",
       "      <td>0.002764</td>\n",
       "      <td>-0.330000</td>\n",
       "      <td>9.800000</td>\n",
       "      <td>-0.270000</td>\n",
       "      <td>1.000000</td>\n",
       "    </tr>\n",
       "    <tr>\n",
       "      <th>75%</th>\n",
       "      <td>37.220000</td>\n",
       "      <td>69.000000</td>\n",
       "      <td>1.000000</td>\n",
       "      <td>2.000000</td>\n",
       "      <td>14.000000</td>\n",
       "      <td>0.183370</td>\n",
       "      <td>0.007398</td>\n",
       "      <td>0.000000</td>\n",
       "      <td>12.720000</td>\n",
       "      <td>0.080000</td>\n",
       "      <td>1.000000</td>\n",
       "    </tr>\n",
       "    <tr>\n",
       "      <th>max</th>\n",
       "      <td>92.590000</td>\n",
       "      <td>90.000000</td>\n",
       "      <td>2.000000</td>\n",
       "      <td>13.000000</td>\n",
       "      <td>21.000000</td>\n",
       "      <td>0.466129</td>\n",
       "      <td>0.016673</td>\n",
       "      <td>12.560000</td>\n",
       "      <td>18.920000</td>\n",
       "      <td>4.400000</td>\n",
       "      <td>2.000000</td>\n",
       "    </tr>\n",
       "  </tbody>\n",
       "</table>\n",
       "</div>"
      ],
      "text/plain": [
       "                bmi           Age    asa_status  baseline_charlson  \\\n",
       "count  11733.000000  11733.000000  11733.000000       11733.000000   \n",
       "mean      31.868385     56.581437      0.541379           1.219296   \n",
       "std        9.014059     13.663206      0.567410           1.887267   \n",
       "min        2.150000      6.000000      0.000000           0.000000   \n",
       "25%       25.390000     47.000000      0.000000           0.000000   \n",
       "50%       29.860000     57.000000      1.000000           0.000000   \n",
       "75%       37.220000     69.000000      1.000000           2.000000   \n",
       "max       92.590000     90.000000      2.000000          13.000000   \n",
       "\n",
       "           ahrq_ccs  ccsComplicationRate  ccsMort30Rate  complication_rsi  \\\n",
       "count  11733.000000         11733.000000   11733.000000      11733.000000   \n",
       "mean       9.265831             0.146330       0.004814         -0.384690   \n",
       "std        6.573821             0.094482       0.005047          1.318841   \n",
       "min        0.000000             0.016118       0.000000         -4.720000   \n",
       "25%        4.000000             0.081977       0.000789         -0.900000   \n",
       "50%        8.000000             0.109369       0.002764         -0.330000   \n",
       "75%       14.000000             0.183370       0.007398          0.000000   \n",
       "max       21.000000             0.466129       0.016673         12.560000   \n",
       "\n",
       "               hour  mortality_rsi          race  \n",
       "count  11733.000000   11733.000000  11733.000000  \n",
       "mean      10.431716      -0.487154      0.899514  \n",
       "std        2.912697       1.078118      0.404809  \n",
       "min        6.070000      -3.820000      0.000000  \n",
       "25%        7.680000      -1.200000      1.000000  \n",
       "50%        9.800000      -0.270000      1.000000  \n",
       "75%       12.720000       0.080000      1.000000  \n",
       "max       18.920000       4.400000      2.000000  "
      ]
     },
     "execution_count": 15,
     "metadata": {},
     "output_type": "execute_result"
    }
   ],
   "source": [
    "df.describe()"
   ]
  },
  {
   "cell_type": "code",
   "execution_count": 16,
   "id": "be8c1c3e",
   "metadata": {},
   "outputs": [
    {
     "data": {
      "image/png": "[encoded data removed]",
      "text/plain": [
       "<Figure size 576x576 with 1 Axes>"
      ]
     },
     "metadata": {
      "needs_background": "light"
     },
     "output_type": "display_data"
    }
   ],
   "source": [
    "# Lets Display Count on top of countplot\n",
    "fig, ax1 = plt.subplots(figsize=(8,8))\n",
    "graph = sns.countplot(ax=ax1,x='complication', data=df)\n",
    "graph.set_xticklabels(graph.get_xticklabels(),rotation=90)\n",
    "for p in graph.patches:\n",
    "    height = p.get_height()\n",
    "    graph.text(p.get_x()+p.get_width()/2., height + 0.1,height ,ha=\"center\")"
   ]
  },
  {
   "cell_type": "code",
   "execution_count": 17,
   "id": "16ad694f",
   "metadata": {},
   "outputs": [
    {
     "data": {
      "text/plain": [
       "Text(0.5, 1.0, 'Pie Chart')"
      ]
     },
     "execution_count": 17,
     "metadata": {},
     "output_type": "execute_result"
    },
    {
     "data": {
      "image/png": "[encoded data removed]",
      "text/plain": [
       "<Figure size 504x360 with 1 Axes>"
      ]
     },
     "metadata": {},
     "output_type": "display_data"
    }
   ],
   "source": [
    "# Pie Chart\n",
    "plt.figure(figsize=(7 , 5))\n",
    "df.groupby(df.complication).size().plot(kind = 'pie' , autopct = '%.2f' )\n",
    "plt.title(\"Pie Chart\")"
   ]
  },
  {
   "cell_type": "markdown",
   "id": "c13956dc",
   "metadata": {},
   "source": [
    "* In the dataset, 66.55% data corresponds to patients who did not experience postoperative complications (class 0), while a smaller portion (31.45%) represents patients who did have postoperative complications (class 1).\n",
    "* This indicates that there is an imbalance in the dataset, with class 0 being more dominant than the other."
   ]
  },
  {
   "cell_type": "code",
   "execution_count": 18,
   "id": "4b57becf",
   "metadata": {},
   "outputs": [
    {
     "data": {
      "text/plain": [
       "Text(0.5, 1.0, 'Pie Chart')"
      ]
     },
     "execution_count": 18,
     "metadata": {},
     "output_type": "execute_result"
    },
    {
     "data": {
      "image/png": "[encoded data removed]",
      "text/plain": [
       "<Figure size 576x360 with 1 Axes>"
      ]
     },
     "metadata": {},
     "output_type": "display_data"
    }
   ],
   "source": [
    "# Pie Chart\n",
    "plt.figure(figsize=(8, 5) )\n",
    "df.groupby(df.gender).size().plot(kind = 'pie' , autopct = '%.2f')\n",
    "plt.title(\"Pie Chart\")"
   ]
  },
  {
   "cell_type": "markdown",
   "id": "ae0e0c9e",
   "metadata": {},
   "source": [
    "* Female patients are more than male patients in the dataset."
   ]
  },
  {
   "cell_type": "code",
   "execution_count": 19,
   "id": "a67ab0c2",
   "metadata": {},
   "outputs": [
    {
     "data": {
      "text/plain": [
       "<AxesSubplot:xlabel='mort30', ylabel='count'>"
      ]
     },
     "execution_count": 19,
     "metadata": {},
     "output_type": "execute_result"
    },
    {
     "data": {
      "image/png": "[encoded data removed]",
      "text/plain": [
       "<Figure size 1440x2160 with 12 Axes>"
      ]
     },
     "metadata": {
      "needs_background": "light"
     },
     "output_type": "display_data"
    }
   ],
   "source": [
    "fig , axes = plt.subplots(4, 3,figsize = (20 , 30) )\n",
    "sns.countplot(df.moonphase , ax = axes[0 , 0] , palette='viridis' )\n",
    "sns.countplot(df.month ,ax = axes[0 , 1] ,palette='viridis')\n",
    "sns.countplot(df.baseline_cvd , ax = axes[0 , 2] ,palette='viridis')\n",
    "sns.countplot(df.baseline_dementia , ax = axes[1, 0] ,palette='viridis')\n",
    "sns.countplot(df.baseline_cancer , ax = axes[1 , 1] ,palette='viridis')\n",
    "sns.countplot(df.baseline_diabetes , ax = axes[1 , 2] , palette='viridis')\n",
    "sns.countplot(df.baseline_digestive , ax  = axes[2, 0] ,palette='viridis')\n",
    "sns.countplot(df.baseline_osteoart , ax = axes[2 , 1] ,palette='viridis')\n",
    "sns.countplot(df.baseline_psych , ax = axes[2 , 2 ] ,palette='viridis')\n",
    "sns.countplot(df.baseline_pulmonary , ax = axes[3 , 0] , palette='viridis')\n",
    "sns.countplot(df.dow , ax = axes[3 , 1] , palette='viridis')\n",
    "sns.countplot(df.mort30 , ax = axes[3 , 2] , palette='viridis')\n",
    "\n"
   ]
  },
  {
   "cell_type": "code",
   "execution_count": null,
   "id": "6c8f1279",
   "metadata": {},
   "outputs": [],
   "source": []
  },
  {
   "cell_type": "code",
   "execution_count": 20,
   "id": "1dd89dd3",
   "metadata": {},
   "outputs": [
    {
     "data": {
      "text/plain": [
       "<seaborn.axisgrid.FacetGrid at 0x22c32f7cbb0>"
      ]
     },
     "execution_count": 20,
     "metadata": {},
     "output_type": "execute_result"
    },
    {
     "data": {
      "image/png": "[encoded data removed]",
      "text/plain": [
       "<Figure size 604.8x432 with 2 Axes>"
      ]
     },
     "metadata": {
      "needs_background": "light"
     },
     "output_type": "display_data"
    }
   ],
   "source": [
    "sns.catplot(x=\"gender\",col=\"complication\",data=df, kind=\"count\",height=6, aspect=.7 , palette='viridis')"
   ]
  },
  {
   "cell_type": "code",
   "execution_count": 21,
   "id": "cbb58966",
   "metadata": {},
   "outputs": [
    {
     "data": {
      "text/plain": [
       "<seaborn.axisgrid.FacetGrid at 0x22c35e062e0>"
      ]
     },
     "execution_count": 21,
     "metadata": {},
     "output_type": "execute_result"
    },
    {
     "data": {
      "image/png": "[encoded data removed]",
      "text/plain": [
       "<Figure size 604.8x432 with 2 Axes>"
      ]
     },
     "metadata": {
      "needs_background": "light"
     },
     "output_type": "display_data"
    }
   ],
   "source": [
    "sns.catplot(x=\"moonphase\",col=\"complication\",data=df, kind=\"count\",height=6, aspect=.7 , palette='viridis')"
   ]
  },
  {
   "cell_type": "code",
   "execution_count": 22,
   "id": "26253591",
   "metadata": {},
   "outputs": [
    {
     "data": {
      "text/plain": [
       "<seaborn.axisgrid.FacetGrid at 0x22c36d47fa0>"
      ]
     },
     "execution_count": 22,
     "metadata": {},
     "output_type": "execute_result"
    },
    {
     "data": {
      "image/png": "[encoded data removed]",
      "text/plain": [
       "<Figure size 604.8x432 with 2 Axes>"
      ]
     },
     "metadata": {
      "needs_background": "light"
     },
     "output_type": "display_data"
    }
   ],
   "source": [
    "sns.catplot(x=\"dow\",col=\"complication\",data=df, kind=\"count\",height=6, aspect=.7 , palette='viridis')"
   ]
  },
  {
   "cell_type": "code",
   "execution_count": 23,
   "id": "44d6f5c0",
   "metadata": {},
   "outputs": [
    {
     "data": {
      "text/plain": [
       "<seaborn.axisgrid.FacetGrid at 0x22c35f1f910>"
      ]
     },
     "execution_count": 23,
     "metadata": {},
     "output_type": "execute_result"
    },
    {
     "data": {
      "image/png": "[encoded data removed]",
      "text/plain": [
       "<Figure size 604.8x432 with 2 Axes>"
      ]
     },
     "metadata": {
      "needs_background": "light"
     },
     "output_type": "display_data"
    },
    {
     "data": {
      "image/png": "[encoded data removed]",
      "text/plain": [
       "<Figure size 604.8x432 with 2 Axes>"
      ]
     },
     "metadata": {
      "needs_background": "light"
     },
     "output_type": "display_data"
    },
    {
     "data": {
      "image/png": "[encoded data removed]",
      "text/plain": [
       "<Figure size 604.8x432 with 2 Axes>"
      ]
     },
     "metadata": {
      "needs_background": "light"
     },
     "output_type": "display_data"
    },
    {
     "data": {
      "image/png": "[encoded data removed]",
      "text/plain": [
       "<Figure size 604.8x432 with 2 Axes>"
      ]
     },
     "metadata": {
      "needs_background": "light"
     },
     "output_type": "display_data"
    },
    {
     "data": {
      "image/png": "[encoded data removed]",
      "text/plain": [
       "<Figure size 604.8x432 with 2 Axes>"
      ]
     },
     "metadata": {
      "needs_background": "light"
     },
     "output_type": "display_data"
    },
    {
     "data": {
      "image/png": "[encoded data removed]",
      "text/plain": [
       "<Figure size 604.8x432 with 2 Axes>"
      ]
     },
     "metadata": {
      "needs_background": "light"
     },
     "output_type": "display_data"
    },
    {
     "data": {
      "image/png": "[encoded data removed]",
      "text/plain": [
       "<Figure size 604.8x432 with 2 Axes>"
      ]
     },
     "metadata": {
      "needs_background": "light"
     },
     "output_type": "display_data"
    },
    {
     "data": {
      "image/png": "[encoded data removed]",
      "text/plain": [
       "<Figure size 604.8x432 with 2 Axes>"
      ]
     },
     "metadata": {
      "needs_background": "light"
     },
     "output_type": "display_data"
    },
    {
     "data": {
      "image/png": "[encoded data removed]",
      "text/plain": [
       "<Figure size 604.8x432 with 2 Axes>"
      ]
     },
     "metadata": {
      "needs_background": "light"
     },
     "output_type": "display_data"
    },
    {
     "data": {
      "image/png": "[encoded data removed]",
      "text/plain": [
       "<Figure size 604.8x432 with 2 Axes>"
      ]
     },
     "metadata": {
      "needs_background": "light"
     },
     "output_type": "display_data"
    },
    {
     "data": {
      "image/png": "[encoded data removed]",
      "text/plain": [
       "<Figure size 604.8x432 with 2 Axes>"
      ]
     },
     "metadata": {
      "needs_background": "light"
     },
     "output_type": "display_data"
    },
    {
     "data": {
      "image/png": "[encoded data removed]",
      "text/plain": [
       "<Figure size 604.8x432 with 2 Axes>"
      ]
     },
     "metadata": {
      "needs_background": "light"
     },
     "output_type": "display_data"
    }
   ],
   "source": [
    "\n",
    "sns.catplot(x=\"dow\",col=\"complication\",data=df, kind=\"count\",height=6, aspect=.7 , palette='viridis' )\n",
    "sns.catplot(x='baseline_cancer',col=\"complication\",data=df, kind=\"count\",height=6, aspect=.7 , palette='viridis' )\n",
    "sns.catplot(x='baseline_charlson',col=\"complication\",data=df, kind=\"count\",height=6, aspect=.7 , palette='viridis')\n",
    "sns.catplot(x='baseline_cvd',col=\"complication\",data=df, kind=\"count\",height=6, aspect=.7 , palette='viridis')\n",
    "sns.catplot(x='baseline_dementia',col=\"complication\",data=df, kind=\"count\",height=6, aspect=.7 , palette='viridis' )\n",
    "sns.catplot(x='baseline_diabetes',col=\"complication\",data=df, kind=\"count\",height=6, aspect=.7 , palette='viridis')\n",
    "sns.catplot(x='baseline_digestive',col=\"complication\",data=df, kind=\"count\",height=6, aspect=.7 , palette='viridis')\n",
    "sns.catplot(x='month',col=\"complication\",data=df, kind=\"count\",height=6, aspect=.7 , palette='viridis' )\n",
    "sns.catplot(x='mort30',col=\"complication\",data=df, kind=\"count\",height=6, aspect=.7 , palette='viridis' )\n",
    "sns.catplot(x='baseline_psych',col=\"complication\",data=df, kind=\"count\",height=6, aspect=.7 , palette='viridis')\n",
    "sns.catplot(x='baseline_osteoart',col=\"complication\",data=df, kind=\"count\",height=6, aspect=.7 , palette='viridis' )\n",
    "sns.catplot(x='baseline_pulmonary',col=\"complication\",data=df, kind=\"count\",height=6, aspect=.7 , palette='viridis' )\n"
   ]
  },
  {
   "cell_type": "code",
   "execution_count": 24,
   "id": "3990fad7",
   "metadata": {},
   "outputs": [
    {
     "data": {
      "text/plain": [
       "<AxesSubplot:title={'center':'Age'}, xlabel='complication'>"
      ]
     },
     "execution_count": 24,
     "metadata": {},
     "output_type": "execute_result"
    },
    {
     "data": {
      "image/png": "[encoded data removed]",
      "text/plain": [
       "<Figure size 432x288 with 1 Axes>"
      ]
     },
     "metadata": {
      "needs_background": "light"
     },
     "output_type": "display_data"
    }
   ],
   "source": [
    "df.boxplot(column=\"Age\",by=\"complication\")"
   ]
  },
  {
   "cell_type": "code",
   "execution_count": 25,
   "id": "72d69e0e",
   "metadata": {},
   "outputs": [
    {
     "data": {
      "text/plain": [
       "<AxesSubplot:title={'center':'bmi'}, xlabel='complication'>"
      ]
     },
     "execution_count": 25,
     "metadata": {},
     "output_type": "execute_result"
    },
    {
     "data": {
      "image/png": "[encoded data removed]",
      "text/plain": [
       "<Figure size 432x288 with 1 Axes>"
      ]
     },
     "metadata": {
      "needs_background": "light"
     },
     "output_type": "display_data"
    }
   ],
   "source": [
    "df.boxplot(column=\"bmi\",by=\"complication\")"
   ]
  },
  {
   "cell_type": "markdown",
   "id": "f80b4f32",
   "metadata": {},
   "source": [
    "## Converting Object Data type to numeric"
   ]
  },
  {
   "cell_type": "code",
   "execution_count": 26,
   "id": "a7d3395c",
   "metadata": {},
   "outputs": [
    {
     "data": {
      "text/plain": [
       "baseline_cancer       object\n",
       "baseline_cvd          object\n",
       "baseline_dementia     object\n",
       "baseline_diabetes     object\n",
       "baseline_digestive    object\n",
       "baseline_osteoart     object\n",
       "baseline_psych        object\n",
       "baseline_pulmonary    object\n",
       "dow                   object\n",
       "gender                object\n",
       "month                 object\n",
       "moonphase             object\n",
       "mort30                object\n",
       "complication          object\n",
       "dtype: object"
      ]
     },
     "execution_count": 26,
     "metadata": {},
     "output_type": "execute_result"
    }
   ],
   "source": [
    "df.dtypes[df.dtypes == 'object']"
   ]
  },
  {
   "cell_type": "code",
   "execution_count": 27,
   "id": "beb4292a",
   "metadata": {},
   "outputs": [],
   "source": [
    "df.complication.replace({\"Yes\" :1 ,  \"No\" : 0} , inplace = True)\n",
    "df.baseline_cancer.replace({\"Yes\" :1 ,  \"No\" : 0} , inplace = True)\n",
    "df.complication.replace({\"Yes\" :1 ,  \"No\" : 0} , inplace = True)\n",
    "df.baseline_cvd.replace({\"Yes\" :1 ,  \"No\" : 0} , inplace = True)\n",
    "df.baseline_dementia.replace({\"Yes\" :1 ,  \"No\" : 0} , inplace = True)\n",
    "df.baseline_diabetes.replace({\"Yes\" :1 ,  \"No\" : 0} , inplace = True)\n",
    "df.baseline_digestive.replace({\"Yes\" :1 ,  \"No\" : 0} , inplace = True)\n",
    "df.baseline_osteoart.replace({\"Yes\" :1 ,  \"No\" : 0} , inplace = True)\n",
    "df.baseline_osteoart.replace({\"Yes\" :1 ,  \"No\" : 0} , inplace = True)\n",
    "df.baseline_pulmonary.replace({\"Yes\" :1 ,  \"No\" : 0} , inplace = True)\n",
    "df.gender.replace({\"Male\" : 1 , \"Female\" : 0} , inplace = True)\n",
    "df.baseline_psych.replace({\"Yes\" :1 ,  \"No\" : 0} , inplace = True)\n",
    "df.dow.replace({\"Monday\" :0 , \"Tuesday\": 1 , \"Wednesday\" : 2 , \"Thursday\" : 3,  \"Friday\" : 4} , inplace = True)\n",
    "df.month.replace({\"January\" : 0 ,  \"February\" : 1, \"March\" : 2, \"April\" : 3,  \"May\" : 4, \"June\" : 5 ,\"July\" : 6,\"August\" : 7,\"September\": 8 , \"October\" : 9 , \"November\" : 10, \"December\" : 11} , inplace = True)\n",
    "df.moonphase.replace({\"New Moon\" : 0 ,  \"First Quarter\" : 1 ,\"Full moon\" :2 , \"Third Quarter\" :3} , inplace = True)\n",
    "df.mort30.replace({\"Yes\" :1 ,  \"No\" : 0} , inplace = True)"
   ]
  },
  {
   "cell_type": "code",
   "execution_count": 28,
   "id": "6c805639",
   "metadata": {},
   "outputs": [
    {
     "data": {
      "text/plain": [
       "Series([], dtype: object)"
      ]
     },
     "execution_count": 28,
     "metadata": {},
     "output_type": "execute_result"
    }
   ],
   "source": [
    "df.dtypes[df.dtypes == 'object']"
   ]
  },
  {
   "cell_type": "markdown",
   "id": "ef280596",
   "metadata": {},
   "source": [
    "### Feature Selection"
   ]
  },
  {
   "cell_type": "code",
   "execution_count": 46,
   "id": "ed84cd80",
   "metadata": {},
   "outputs": [],
   "source": [
    "# Using Random Forest classifier\n",
    "feat_imp = pd.DataFrame()\n",
    "feat_imp['Features'] = df.iloc[: , 0: -1].columns\n",
    "feat_imp['Score']      = rf.feature_importances_\n",
    "feat_imp = feat_imp.sort_values('Score' ,    ascending=False)\n",
    "feat_imp.Score[0:10].sum()\n",
    "l1 = list(feat_imp.Features[0:10])\n",
    "Final_Variables = l1.append('complication')"
   ]
  },
  {
   "cell_type": "code",
   "execution_count": 47,
   "id": "ef2887e0",
   "metadata": {},
   "outputs": [
    {
     "data": {
      "text/plain": [
       "0.9528919131558251"
      ]
     },
     "execution_count": 47,
     "metadata": {},
     "output_type": "execute_result"
    }
   ],
   "source": [
    "feat_imp.Score[0:8].sum()"
   ]
  },
  {
   "cell_type": "code",
   "execution_count": 48,
   "id": "fb21b7d4",
   "metadata": {},
   "outputs": [
    {
     "data": {
      "text/plain": [
       "['Age',\n",
       " 'complication_rsi',\n",
       " 'ccsComplicationRate',\n",
       " 'mortality_rsi',\n",
       " 'bmi',\n",
       " 'ccsMort30Rate',\n",
       " 'ahrq_ccs',\n",
       " 'baseline_charlson']"
      ]
     },
     "execution_count": 48,
     "metadata": {},
     "output_type": "execute_result"
    }
   ],
   "source": [
    "# Significant variables\n",
    "list(feat_imp.Features[0:8])    "
   ]
  },
  {
   "cell_type": "code",
   "execution_count": 49,
   "id": "485e3d24",
   "metadata": {},
   "outputs": [],
   "source": [
    "df1 = df"
   ]
  },
  {
   "cell_type": "code",
   "execution_count": 50,
   "id": "060d6f88",
   "metadata": {},
   "outputs": [
    {
     "data": {
      "text/plain": [
       "(11733, 11)"
      ]
     },
     "execution_count": 50,
     "metadata": {},
     "output_type": "execute_result"
    }
   ],
   "source": [
    "df = df1.loc[: , l1]\n",
    "df.shape"
   ]
  },
  {
   "cell_type": "markdown",
   "id": "fdb727c5",
   "metadata": {},
   "source": [
    "## Sampling"
   ]
  },
  {
   "cell_type": "code",
   "execution_count": 51,
   "id": "85f2c663",
   "metadata": {},
   "outputs": [],
   "source": [
    "from sklearn.model_selection import train_test_split\n",
    "df_train , df_test = train_test_split(df , test_size=0.2 , random_state=42)"
   ]
  },
  {
   "cell_type": "code",
   "execution_count": 52,
   "id": "d2aa0270",
   "metadata": {},
   "outputs": [
    {
     "data": {
      "text/plain": [
       "complication\n",
       "0    6416\n",
       "1    2970\n",
       "Name: count, dtype: int64"
      ]
     },
     "execution_count": 52,
     "metadata": {},
     "output_type": "execute_result"
    }
   ],
   "source": [
    "df_train.complication.value_counts()"
   ]
  },
  {
   "cell_type": "code",
   "execution_count": 53,
   "id": "cabf0dd3",
   "metadata": {},
   "outputs": [
    {
     "data": {
      "text/plain": [
       "(2970, 11)"
      ]
     },
     "execution_count": 53,
     "metadata": {},
     "output_type": "execute_result"
    }
   ],
   "source": [
    "df_os = df_train[df_train.complication == 1]     \n",
    "df_os.shape"
   ]
  },
  {
   "cell_type": "code",
   "execution_count": 54,
   "id": "8f608025",
   "metadata": {},
   "outputs": [],
   "source": [
    "df_train1 = pd.concat([df_train , df_os])    # Oversampling"
   ]
  },
  {
   "cell_type": "code",
   "execution_count": 55,
   "id": "29a39f58",
   "metadata": {},
   "outputs": [
    {
     "data": {
      "text/plain": [
       "complication\n",
       "0    6416\n",
       "1    5940\n",
       "Name: count, dtype: int64"
      ]
     },
     "execution_count": 55,
     "metadata": {},
     "output_type": "execute_result"
    }
   ],
   "source": [
    "df_train1.complication.value_counts()"
   ]
  },
  {
   "cell_type": "code",
   "execution_count": 56,
   "id": "f1fe868a",
   "metadata": {},
   "outputs": [],
   "source": [
    "df_train = df_train1"
   ]
  },
  {
   "cell_type": "code",
   "execution_count": 57,
   "id": "3940633e",
   "metadata": {},
   "outputs": [],
   "source": [
    "df_train_x = df_train.iloc[: , 0:-1]\n",
    "df_train_y = df_train.iloc[: , -1]\n",
    "df_test_x = df_test.iloc[: , 0:-1]\n",
    "df_test_y = df_test.iloc[: , -1]"
   ]
  },
  {
   "cell_type": "code",
   "execution_count": 58,
   "id": "eddaf7d0",
   "metadata": {},
   "outputs": [
    {
     "name": "stdout",
     "output_type": "stream",
     "text": [
      "(11733, 11) (12356, 10) (12356,) (2347, 10) (2347,)\n"
     ]
    }
   ],
   "source": [
    "print(df.shape , df_train_x.shape , df_train_y.shape , df_test_x.shape , df_test_y.shape)"
   ]
  },
  {
   "cell_type": "code",
   "execution_count": 59,
   "id": "a316b426",
   "metadata": {},
   "outputs": [],
   "source": [
    "# Feature Scaling\n",
    "\n",
    "from sklearn.preprocessing import StandardScaler\n",
    "sc = StandardScaler()\n",
    "\n",
    "df_train_x = sc.fit_transform(df_train_x)\n",
    "df_test_x = sc.transform(df_test_x)"
   ]
  },
  {
   "cell_type": "markdown",
   "id": "9b19db0f",
   "metadata": {},
   "source": [
    "## Model Building"
   ]
  },
  {
   "cell_type": "markdown",
   "id": "cb8694f1",
   "metadata": {},
   "source": [
    "## Logistics Regression"
   ]
  },
  {
   "cell_type": "code",
   "execution_count": 60,
   "id": "0efc3f80",
   "metadata": {},
   "outputs": [
    {
     "data": {
      "text/plain": [
       "LogisticRegression(class_weight='balanced')"
      ]
     },
     "execution_count": 60,
     "metadata": {},
     "output_type": "execute_result"
    }
   ],
   "source": [
    "logreg = LogisticRegression(class_weight='balanced')\n",
    "logreg.fit(df_train_x , df_train_y)"
   ]
  },
  {
   "cell_type": "code",
   "execution_count": 61,
   "id": "bdcf3e4e",
   "metadata": {},
   "outputs": [
    {
     "data": {
      "text/plain": [
       "array([[4719, 1697],\n",
       "       [2018, 3922]], dtype=int64)"
      ]
     },
     "execution_count": 61,
     "metadata": {},
     "output_type": "execute_result"
    }
   ],
   "source": [
    "# Prediction on train data set\n",
    "pred_logreg_train= logreg.predict(df_train_x)\n",
    "# Confusion matrix\n",
    "confusion_matrix(df_train_y , pred_logreg_train)"
   ]
  },
  {
   "cell_type": "code",
   "execution_count": 62,
   "id": "41cea511",
   "metadata": {},
   "outputs": [],
   "source": [
    "Acc_tr  = accuracy_score(df_train_y , pred_logreg_train)\n",
    "recall_tr    = recall_score(df_train_y , pred_logreg_train)\n",
    "precision_tr = precision_score(df_train_y , pred_logreg_train)\n",
    "f1_ratio_tr  = f1_score(df_train_y , pred_logreg_train)"
   ]
  },
  {
   "cell_type": "code",
   "execution_count": 63,
   "id": "084589e6",
   "metadata": {},
   "outputs": [
    {
     "name": "stdout",
     "output_type": "stream",
     "text": [
      "Accuracy     =  0.699336354807381 \n",
      "Recall_score =  0.6602693602693602 \n",
      "Precision    =  0.6979889660081865 \n",
      "F1_ratio     =  0.678605415693399\n"
     ]
    }
   ],
   "source": [
    "print(\"Accuracy     = \" , Acc_tr , \"\\nRecall_score = \" , recall_tr ,\"\\nPrecision    = \" , precision_tr , \"\\nF1_ratio     = \" , f1_ratio_tr)"
   ]
  },
  {
   "cell_type": "code",
   "execution_count": 64,
   "id": "ea446a43",
   "metadata": {},
   "outputs": [
    {
     "data": {
      "text/plain": [
       "array([[1187,  440],\n",
       "       [ 247,  473]], dtype=int64)"
      ]
     },
     "execution_count": 64,
     "metadata": {},
     "output_type": "execute_result"
    }
   ],
   "source": [
    "# Prediction on test\n",
    "pred_logreg_test = logreg.predict(df_test_x)\n",
    "#Confusion matrix\n",
    "confusion_matrix(df_test_y , pred_logreg_test)"
   ]
  },
  {
   "cell_type": "code",
   "execution_count": 65,
   "id": "5b456532",
   "metadata": {},
   "outputs": [],
   "source": [
    "Acc_te  = accuracy_score(df_test_y , pred_logreg_test)\n",
    "recall_te    = recall_score(df_test_y , pred_logreg_test)\n",
    "precision_te = precision_score(df_test_y , pred_logreg_test)\n",
    "f1_ratio_te  = f1_score(df_test_y , pred_logreg_test)"
   ]
  },
  {
   "cell_type": "code",
   "execution_count": 66,
   "id": "7ed85b3a",
   "metadata": {},
   "outputs": [
    {
     "name": "stdout",
     "output_type": "stream",
     "text": [
      "Accuracy     =  0.7072858968896464 \n",
      "Recall_score =  0.6569444444444444 \n",
      "Precision    =  0.5180722891566265 \n",
      "F1_ratio     =  0.5793018983466014\n"
     ]
    }
   ],
   "source": [
    "print(\"Accuracy     = \" , Acc_te , \"\\nRecall_score = \" , recall_te , \"\\nPrecision    = \" , precision_te , \"\\nF1_ratio     = \" , f1_ratio_te)"
   ]
  },
  {
   "cell_type": "code",
   "execution_count": 68,
   "id": "b7d6c2e7",
   "metadata": {},
   "outputs": [
    {
     "name": "stdout",
     "output_type": "stream",
     "text": [
      "              precision    recall  f1-score   support\n",
      "\n",
      "           0       0.83      0.73      0.78      1627\n",
      "           1       0.52      0.66      0.58       720\n",
      "\n",
      "    accuracy                           0.71      2347\n",
      "   macro avg       0.67      0.69      0.68      2347\n",
      "weighted avg       0.73      0.71      0.72      2347\n",
      "\n"
     ]
    }
   ],
   "source": [
    "print(classification_report(df_test_y , pred_logreg_test))"
   ]
  },
  {
   "cell_type": "markdown",
   "id": "c026ca4c",
   "metadata": {},
   "source": [
    "## Decision Tree"
   ]
  },
  {
   "cell_type": "code",
   "execution_count": 69,
   "id": "bff5b49e",
   "metadata": {},
   "outputs": [
    {
     "data": {
      "text/plain": [
       "GridSearchCV(estimator=DecisionTreeClassifier(class_weight='balanced'),\n",
       "             param_grid={'criterion': ['gini', 'entropy'],\n",
       "                         'max_depth': range(5, 9),\n",
       "                         'min_samples_split': range(50, 100, 150)})"
      ]
     },
     "execution_count": 69,
     "metadata": {},
     "output_type": "execute_result"
    }
   ],
   "source": [
    "dt = DecisionTreeClassifier(class_weight='balanced')\n",
    "# Hyperparameter tunning\n",
    "search_dict = {\"criterion\" : [\"gini\" ,\"entropy\"] ,\n",
    "              \"max_depth\" : range(5 ,9) , \n",
    "             \"min_samples_split\" : range(50 , 100 , 150 ) }\n",
    "dt_search = GridSearchCV(dt , param_grid= search_dict)\n",
    "dt_search.fit(df_train_x , df_train_y )"
   ]
  },
  {
   "cell_type": "code",
   "execution_count": null,
   "id": "6d279493",
   "metadata": {},
   "outputs": [],
   "source": []
  },
  {
   "cell_type": "code",
   "execution_count": 70,
   "id": "bee9fbbf",
   "metadata": {},
   "outputs": [
    {
     "data": {
      "text/plain": [
       "{'criterion': 'entropy', 'max_depth': 8, 'min_samples_split': 50}"
      ]
     },
     "execution_count": 70,
     "metadata": {},
     "output_type": "execute_result"
    }
   ],
   "source": [
    "dt_search.best_params_"
   ]
  },
  {
   "cell_type": "code",
   "execution_count": 71,
   "id": "f4fbdbdc",
   "metadata": {},
   "outputs": [
    {
     "data": {
      "text/plain": [
       "array([[5851,  565],\n",
       "       [1542, 4398]], dtype=int64)"
      ]
     },
     "execution_count": 71,
     "metadata": {},
     "output_type": "execute_result"
    }
   ],
   "source": [
    "# Prediction on train data set\n",
    "pred_dt_train= dt_search.predict(df_train_x)\n",
    "# Confusion matrix\n",
    "confusion_matrix(df_train_y , pred_dt_train)"
   ]
  },
  {
   "cell_type": "code",
   "execution_count": 72,
   "id": "d551018a",
   "metadata": {},
   "outputs": [],
   "source": [
    "Acc_tr  = accuracy_score(df_train_y , pred_dt_train)\n",
    "recall_tr    = recall_score(df_train_y , pred_dt_train)\n",
    "precision_tr = precision_score(df_train_y , pred_dt_train)\n",
    "f1_ratio_tr  = f1_score(df_train_y , pred_dt_train)\n"
   ]
  },
  {
   "cell_type": "code",
   "execution_count": 73,
   "id": "9b3ee052",
   "metadata": {},
   "outputs": [
    {
     "name": "stdout",
     "output_type": "stream",
     "text": [
      "Accuracy     =  0.8294755584331499 \n",
      "Recall_score =  0.7404040404040404 \n",
      "Precision    =  0.8861575659883135 \n",
      "F1_ratio     =  0.8067504356599102\n"
     ]
    }
   ],
   "source": [
    "print(\"Accuracy     = \" , Acc_tr , \"\\nRecall_score = \" , recall_tr , \"\\nPrecision    = \" , precision_tr , \"\\nF1_ratio     = \" , f1_ratio_tr)"
   ]
  },
  {
   "cell_type": "code",
   "execution_count": 74,
   "id": "c4c9e611",
   "metadata": {},
   "outputs": [
    {
     "data": {
      "text/plain": [
       "array([[1438,  189],\n",
       "       [ 221,  499]], dtype=int64)"
      ]
     },
     "execution_count": 74,
     "metadata": {},
     "output_type": "execute_result"
    }
   ],
   "source": [
    "# Prediction on test data set\n",
    "pred_dt_test = dt_search.predict(df_test_x)\n",
    "#Confusion matrix\n",
    "confusion_matrix(df_test_y , pred_dt_test)"
   ]
  },
  {
   "cell_type": "code",
   "execution_count": 75,
   "id": "3f740684",
   "metadata": {},
   "outputs": [],
   "source": [
    "Acc_te  = accuracy_score(df_test_y , pred_dt_test)\n",
    "recall_te    = recall_score(df_test_y , pred_dt_test)\n",
    "precision_te = precision_score(df_test_y , pred_dt_test)\n",
    "f1_ratio_te  = f1_score(df_test_y , pred_dt_test)"
   ]
  },
  {
   "cell_type": "code",
   "execution_count": 76,
   "id": "2143234e",
   "metadata": {},
   "outputs": [
    {
     "name": "stdout",
     "output_type": "stream",
     "text": [
      "Accuracy     =  0.8253089049850874 \n",
      "Recall_score =  0.6930555555555555 \n",
      "Precision    =  0.7252906976744186 \n",
      "F1_ratio     =  0.7088068181818181\n"
     ]
    }
   ],
   "source": [
    "print(\"Accuracy     = \" , Acc_te , \"\\nRecall_score = \" , recall_te   , \"\\nPrecision    = \" , precision_te , \"\\nF1_ratio     = \" , f1_ratio_te)"
   ]
  },
  {
   "cell_type": "code",
   "execution_count": null,
   "id": "f15cc4bb",
   "metadata": {},
   "outputs": [],
   "source": []
  },
  {
   "cell_type": "markdown",
   "id": "92b41b70",
   "metadata": {},
   "source": [
    "## Random Forest"
   ]
  },
  {
   "cell_type": "code",
   "execution_count": 78,
   "id": "8c2b95e5",
   "metadata": {},
   "outputs": [
    {
     "data": {
      "text/plain": [
       "RandomForestClassifier(class_weight='balanced', max_depth=6,\n",
       "                       min_samples_leaf=100, min_samples_split=100)"
      ]
     },
     "execution_count": 78,
     "metadata": {},
     "output_type": "execute_result"
    }
   ],
   "source": [
    "rf = RandomForestClassifier(criterion='gini',\n",
    "                             n_estimators=100,\n",
    "                             max_depth=6,\n",
    "                             min_samples_split=100,\n",
    "                             min_samples_leaf=100,\n",
    "                           class_weight='balanced')\n",
    "rf.fit(df_train_x , df_train_y)"
   ]
  },
  {
   "cell_type": "code",
   "execution_count": 79,
   "id": "56fd6ea9",
   "metadata": {},
   "outputs": [
    {
     "data": {
      "text/plain": [
       "array([[5246, 1170],\n",
       "       [1686, 4254]], dtype=int64)"
      ]
     },
     "execution_count": 79,
     "metadata": {},
     "output_type": "execute_result"
    }
   ],
   "source": [
    "# Prediction on train data set\n",
    "pred_rf_train= rf.predict(df_train_x)\n",
    "# Confusion matrix\n",
    "confusion_matrix(df_train_y , pred_rf_train)"
   ]
  },
  {
   "cell_type": "code",
   "execution_count": 80,
   "id": "f3c3fbe9",
   "metadata": {},
   "outputs": [],
   "source": [
    "Acc_tr  = accuracy_score(df_train_y , pred_rf_train)\n",
    "recall_tr    = recall_score(df_train_y , pred_rf_train)\n",
    "precision_tr = precision_score(df_train_y , pred_rf_train)\n",
    "f1_ratio_tr  = f1_score(df_train_y , pred_rf_train)"
   ]
  },
  {
   "cell_type": "code",
   "execution_count": 81,
   "id": "89785319",
   "metadata": {},
   "outputs": [
    {
     "name": "stdout",
     "output_type": "stream",
     "text": [
      "Accuracy     =  0.7688572353512464 \n",
      "Recall_score =  0.7161616161616161 \n",
      "Precision    =  0.7842920353982301 \n",
      "F1_ratio     =  0.7486800422386483\n"
     ]
    }
   ],
   "source": [
    "print(\"Accuracy     = \" , Acc_tr , \"\\nRecall_score = \" , recall_tr ,\"\\nPrecision    = \" , precision_tr , \"\\nF1_ratio     = \" , f1_ratio_tr)"
   ]
  },
  {
   "cell_type": "code",
   "execution_count": 82,
   "id": "4966cdc4",
   "metadata": {},
   "outputs": [
    {
     "data": {
      "text/plain": [
       "array([[1302,  325],\n",
       "       [ 213,  507]], dtype=int64)"
      ]
     },
     "execution_count": 82,
     "metadata": {},
     "output_type": "execute_result"
    }
   ],
   "source": [
    "# prediction on test\n",
    "pred_rf_test = rf.predict(df_test_x)\n",
    "#Confusion matrix\n",
    "confusion_matrix(df_test_y , pred_rf_test)"
   ]
  },
  {
   "cell_type": "code",
   "execution_count": 83,
   "id": "abf35222",
   "metadata": {},
   "outputs": [],
   "source": [
    "Acc_te  = accuracy_score(df_test_y , pred_rf_test)\n",
    "recall_te    = recall_score(df_test_y , pred_rf_test)\n",
    "precision_te = precision_score(df_test_y , pred_rf_test)\n",
    "f1_ratio_te  = f1_score(df_test_y , pred_rf_test)"
   ]
  },
  {
   "cell_type": "code",
   "execution_count": 84,
   "id": "70b85ee6",
   "metadata": {},
   "outputs": [
    {
     "name": "stdout",
     "output_type": "stream",
     "text": [
      "Accuracy     =  0.7707711972731146 \n",
      "Recall_score =  0.7041666666666667 \n",
      "Precision    =  0.609375 \n",
      "F1_ratio     =  0.6533505154639176\n"
     ]
    }
   ],
   "source": [
    "print(\"Accuracy     = \" , Acc_te , \"\\nRecall_score = \" , recall_te ,\"\\nPrecision    = \" , precision_te , \"\\nF1_ratio     = \" , f1_ratio_te)"
   ]
  },
  {
   "cell_type": "markdown",
   "id": "b724d8dc",
   "metadata": {},
   "source": [
    "## Conclusion\n",
    "\n",
    "1) Decision tree model performs better compared to Random forest and logistic regression. Since Decision tree model has both recall (Performace of class1)  and precision maximum .Recall is is 69.3% i.e. 69% of the time, it correctly predicts whether a patient will experience post-surgical problems based on multiple features.\n",
    " \n",
    "2) According to exploratory data analysis , people between the ages of 60 and 90 have the highest risk of postsurgical problems.\n",
    "\n",
    "3) The main factor affecting postoperative complications is age , followed by the complications rate, the complications stratification index, and so forth.\n"
   ]
  },
  {
   "cell_type": "markdown",
   "id": "eb26bdb8",
   "metadata": {},
   "source": [
    "## Scope\n",
    "Post Surgical Complications Prediction project can have several benefits and considerations:\n",
    "\n",
    "Improved Patient Outcomes: Predicting post-surgical complications can lead to better patient outcomes by enabling early intervention and personalized care, reducing complications, and potentially saving lives.\n",
    "\n",
    "Cost Reduction: Hospitals and healthcare providers can save significant costs by preventing complications that require additional treatments or readmissions. Fewer complications mean lower healthcare expenses.\n",
    "\n",
    "Enhanced Reputation: Healthcare institutions that successfully implement such predictive projects can gain a reputation for providing high-quality care and being proactive in patient safety."
   ]
  },
  {
   "cell_type": "code",
   "execution_count": null,
   "id": "a6678513",
   "metadata": {},
   "outputs": [],
   "source": []
  },
  {
   "cell_type": "code",
   "execution_count": null,
   "id": "c3968949",
   "metadata": {},
   "outputs": [],
   "source": []
  }
 ],
 "metadata": {
  "kernelspec": {
   "display_name": "Python 3 (ipykernel)",
   "language": "python",
   "name": "python3"
  },
  "language_info": {
   "codemirror_mode": {
    "name": "ipython",
    "version": 3
   },
   "file_extension": ".py",
   "mimetype": "text/x-python",
   "name": "python",
   "nbconvert_exporter": "python",
   "pygments_lexer": "ipython3",
   "version": "3.9.12"
  }
 },
 "nbformat": 4,
 "nbformat_minor": 5
}
